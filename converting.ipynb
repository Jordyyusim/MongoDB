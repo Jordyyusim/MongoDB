{
 "cells": [
  {
   "cell_type": "code",
   "execution_count": null,
   "metadata": {},
   "outputs": [],
   "source": [
    "import pymongo as mp"
   ]
  },
  {
   "cell_type": "code",
   "execution_count": null,
   "metadata": {},
   "outputs": [],
   "source": [
    "urldb = \"mongodb://127.0.0.1:27017\"\n",
    "my_mongo = mp.MongoClient(urldb)\n",
    "db_baru = my_mongo['ptabc']\n",
    "col_baru = db_baru['pegawai']\n",
    "m = list(col_baru.find())\n",
    "print(m)\n",
    "# for i in m:\n",
    "#     print(i)"
   ]
  },
  {
   "cell_type": "markdown",
   "metadata": {},
   "source": [
    "### _Mongo to JSON_"
   ]
  },
  {
   "cell_type": "code",
   "execution_count": null,
   "metadata": {},
   "outputs": [],
   "source": [
    "# import json\n",
    "# with open(\"mongotojson.json\", \"w\") as x:\n",
    "#     json.dump(i, x)"
   ]
  },
  {
   "cell_type": "markdown",
   "metadata": {},
   "source": [
    "### _Mongo to CSV_"
   ]
  },
  {
   "cell_type": "code",
   "execution_count": null,
   "metadata": {},
   "outputs": [],
   "source": [
    "# import csv\n",
    "# with open('mongotocsv.csv', 'w') as y:\n",
    "#     writer = csv.DictWriter(y, fieldnames=['_id', 'nama', 'kota', 'usia'])\n",
    "#     writer.writeheader()\n",
    "#     writer.writerows(m)"
   ]
  }
 ],
 "metadata": {
  "kernelspec": {
   "display_name": "Python 3",
   "language": "python",
   "name": "python3"
  },
  "language_info": {
   "codemirror_mode": {
    "name": "ipython",
    "version": 3
   },
   "file_extension": ".py",
   "mimetype": "text/x-python",
   "name": "python",
   "nbconvert_exporter": "python",
   "pygments_lexer": "ipython3",
   "version": "3.8.1"
  }
 },
 "nbformat": 4,
 "nbformat_minor": 4
}
