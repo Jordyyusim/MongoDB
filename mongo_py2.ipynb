{
 "cells": [
  {
   "cell_type": "code",
   "execution_count": null,
   "metadata": {},
   "outputs": [],
   "source": [
    "import pymongo as mp\n",
    "\n",
    "urldb = \"mongodb://127.0.0.1:27017\"\n",
    "my_mongo = mp.MongoClient(urldb)"
   ]
  },
  {
   "cell_type": "markdown",
   "metadata": {},
   "source": [
    "### use ptabc"
   ]
  },
  {
   "cell_type": "code",
   "execution_count": null,
   "metadata": {},
   "outputs": [],
   "source": [
    "db_baru = my_mongo['ptabc']"
   ]
  },
  {
   "cell_type": "markdown",
   "metadata": {},
   "source": [
    "### db.createCollection('pegawai')"
   ]
  },
  {
   "cell_type": "code",
   "execution_count": null,
   "metadata": {},
   "outputs": [],
   "source": [
    "col_baru = db_baru['pegawai']"
   ]
  },
  {
   "cell_type": "markdown",
   "metadata": {},
   "source": [
    "### #db.pegawai.insertOne()"
   ]
  },
  {
   "cell_type": "code",
   "execution_count": null,
   "metadata": {},
   "outputs": [],
   "source": [
    "data = {'nama': 'Heru', 'kota':'Jakarta'}\n",
    "data1 = {'nama': 'Harry', 'kota':'Bekasi'}\n",
    "a = col_baru.insert_one(data)\n",
    "aa = col_baru.insert_one(data1)\n",
    "# print(a.inserted_id)\n",
    "\n",
    "c = list(col_baru.find({}))\n",
    "print(c)\n",
    "# b = list(col_baru.find({'_id':a.inserted_id }))\n",
    "# print(b)"
   ]
  },
  {
   "cell_type": "markdown",
   "metadata": {},
   "source": [
    "### #db.pegawai.insertMany()"
   ]
  },
  {
   "cell_type": "code",
   "execution_count": null,
   "metadata": {},
   "outputs": [],
   "source": [
    "# datanya = [\n",
    "#     {'nama':'Gaga', 'kota':'SBY'},\n",
    "#     {'nama':'Gigi', 'kota':'YGY'},\n",
    "#     {'nama':'Gogo', 'kota':'BKS'},\n",
    "#     {'nama':'Gogo', 'kota':'BKS'},\n",
    "#     {'nama':'Gogo', 'kota':'BDG'},\n",
    "#     {'nama':'Gogo', 'kota':'BKS'},\n",
    "# ]\n",
    "\n",
    "# c = col_baru.insert_many(datanya)\n",
    "# print(c.inserted_ids)"
   ]
  },
  {
   "cell_type": "markdown",
   "metadata": {},
   "source": [
    "### #db.pegawai.deleteOne()\n",
    "### #db.pegawai.deleteMany()"
   ]
  },
  {
   "cell_type": "code",
   "execution_count": null,
   "metadata": {},
   "outputs": [],
   "source": [
    "# col_baru.delete_one({'nama': 'Heru'})\n",
    "# hapus = col_baru.delete_many({'nama': 'Gogo'})\n",
    "# print(hapus.deleted_count)"
   ]
  },
  {
   "cell_type": "markdown",
   "metadata": {},
   "source": [
    "### db.pegawai.updateOne()"
   ]
  },
  {
   "cell_type": "code",
   "execution_count": null,
   "metadata": {},
   "outputs": [],
   "source": [
    "# col_baru.update_one(\n",
    "#     {'nama': 'Heru'},\n",
    "#     {'$set': {'kota': 'BSD'}}\n",
    "# )"
   ]
  },
  {
   "cell_type": "markdown",
   "metadata": {},
   "source": [
    "### db.pegawai.updateMany()"
   ]
  },
  {
   "cell_type": "code",
   "execution_count": null,
   "metadata": {},
   "outputs": [],
   "source": [
    "# col_baru.update_many(\n",
    "#     {},\n",
    "#     {'$set': {'usia': 25}}\n",
    "# )"
   ]
  },
  {
   "cell_type": "markdown",
   "metadata": {},
   "source": [
    "### db.pegawai.find()"
   ]
  },
  {
   "cell_type": "code",
   "execution_count": null,
   "metadata": {},
   "outputs": [],
   "source": [
    "# m = col_baru.find()\n",
    "# for i in m:\n",
    "#     print(i)"
   ]
  },
  {
   "cell_type": "code",
   "execution_count": null,
   "metadata": {},
   "outputs": [],
   "source": [
    "# n = col_baru.find({}, {'nama': 1, 'usia': 1})\n",
    "# for i in n:\n",
    "#     print(i)"
   ]
  },
  {
   "cell_type": "code",
   "execution_count": null,
   "metadata": {},
   "outputs": [],
   "source": [
    "# v = col_baru.find({'usia': {'$gt': 26}})\n",
    "# print(list(v))"
   ]
  }
 ],
 "metadata": {
  "kernelspec": {
   "display_name": "Python 3",
   "language": "python",
   "name": "python3"
  },
  "language_info": {
   "codemirror_mode": {
    "name": "ipython",
    "version": 3
   },
   "file_extension": ".py",
   "mimetype": "text/x-python",
   "name": "python",
   "nbconvert_exporter": "python",
   "pygments_lexer": "ipython3",
   "version": "3.8.1"
  }
 },
 "nbformat": 4,
 "nbformat_minor": 4
}
